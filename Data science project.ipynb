{
 "cells": [
  {
   "cell_type": "markdown",
   "id": "5ee801f0",
   "metadata": {},
   "source": [
    "**Introduction**\n",
    "\n",
    "\n",
    "Domain-specific area and objectives:"
   ]
  },
  {
   "cell_type": "markdown",
   "id": "c8a1b31d",
   "metadata": {},
   "source": [
    "The leading cause of mortality worldwide is cardiovascular diseases (CVDs), which claim 17.9 million lives annually, or 31% of all deaths worldwide.\n",
    "Twelve features in this dataset can be used to predict death from heart failure, which is a typical occurrence brought on by CVDs.\n",
    "\n",
    "Behavioral risk factors like smoking, unhealthy diets, obesity, physical inactivity, and excessive alcohol consumption are some factors that impact the heart faliure mortality rate. Implementing population-wide strategies to promote healthier lifestyles and habits represents a proactive approach to preventing these heart faliure mortality rates.\n",
    "\n",
    "A machine learning model can be very helpful in the early detection and treatment of individuals with cardiovascular disease and high cardiovascular risk due to the existence of one or more risk factors, such as hypertension, diabetes, hyperlipidemia, or already existing illness.\n",
    "\n",
    "In this coursework, I will be using machine learning for predicting mortality caused by Heart Failure, by training a model based on current clinical records consisting of the patients heart faliure causes and symptoms and also evaluating the accuracy of this model at the end. I believe this will be a cost-effective way of assisting individuals in detecting survival rates, as they can simply indicate the presence of causes and symptoms that would make a patient's clinical record appear more critical compared to other heart failure patients and give early treatment to those at high risk.  With such a system in place, there is a possibility of reducing the number of mortality rates.This information can guide the development of targeted interventions to prevent cardiovascular diseases at a population level.\n",
    "\n",
    "The objectives of this project include early detection of individuals at high risk of heart failure mortality, evaluating model accuracy,cost-effectiveness, contributing to healthcare practices, improving patient outcomes, optimizing resource allocation, informing public health strategies, advancing machine learning in healthcare, and facilitating knowledge transfer to the scientific and healthcare communities. The overall goal is to create an impactful tool for predicting heart failure mortality, reducing associated mortality rates."
   ]
  },
  {
   "cell_type": "markdown",
   "id": "fc60dc28",
   "metadata": {},
   "source": [
    "**Dataset description -**"
   ]
  },
  {
   "cell_type": "markdown",
   "id": "2ae70b5f",
   "metadata": {},
   "source": [
    "The medical records of 299 heart failure patients and 13 columns was collected at the Faisalabad Institute of Cardiology and at the Allied Hospital in Faisalabad (Punjab, Pakistan), during April–December 2015. The patients consisted of 105 women and 194 men, and their ages range between 40 and 95 years old.The heart failure clinical records dataset can be accessed via the Kaggle official website.\n",
    "\n",
    "Link to dataset:https://www.kaggle.com/datasets/andrewmvd/heart-failure-clinical-data/data\n",
    "reference: https://bmcmedinformdecismak.biomedcentral.com/articles/10.1186/s12911-020-1023-5\n",
    "\n",
    "Features:\n",
    "\n",
    "age: Age of the patient(Integer), which can be crucial in understanding how cardiovascular issues vary across different age groups.\n",
    "\n",
    "anaemia: Whether the patient has anaemia (0: No, 1: Yes)(Integer (0 or 1)). It can be a significant factor in cardiovascular health.\n",
    "\n",
    "creatinine_phosphokinase: Level of the CPK enzyme in the blood (mcg/L)(Integer). Abnormal levels of CPK can be associated with heart-related conditions.\n",
    "\n",
    "diabetes: Whether the patient has diabetes (0: No, 1: Yes)(Integer (0 or 1)). It is a common risk factor for cardiovascular diseases.\n",
    "\n",
    "ejection_fraction: Percentage of blood leaving the heart at each contraction (Float). Low ejection fraction is often linked to heart failure.\n",
    "\n",
    "high_blood_pressure: Whether the patient has high blood pressure, a major risk factor for cardiovascular diseases. (0: No, 1: Yes) (Integer (0 or 1))\n",
    "\n",
    "platelets: Platelet count in the blood (kiloplatelets/mL)(Float). It is relevant to the blood clotting process.\n",
    "\n",
    "serum_creatinine: Level of serum creatinine in the blood (mg/dL)(Float). Abnormal creatinine levels can indicate kidney problems, which are often linked to cardiovascular issues.\n",
    "\n",
    "serum_sodium: Level of serum sodium in the blood (mEq/L)(Integer). Sodium levels are important for overall health, including cardiovascular health.\n",
    "\n",
    "sex: Gender of the patient (0: Female, 1: Male)(Integer (0 or 1)). Cardiovascular diseases can sometimes affect males and females differently.\n",
    "\n",
    "smoking: Whether the patient smokes (0: No, 1: Yes)(Integer (0 or 1)). Smoking is a well-known risk factor for cardiovascular diseases.\n",
    "\n",
    "time: Follow-up period (days) (Integer). It is crucial for understanding the progression of cardiovascular conditions over time.\n",
    "\n",
    "Target Variable:\n",
    "\n",
    "DEATH_EVENT: Whether the patient experienced a death event during the follow-up period (0: No, 1: Yes)(Integer (0 or 1))this is the outcome needed for prediction.\n",
    "\n",
    "With these attributes, I will be able to check which feature causes a higher mortality rate among the patients clinical records and get these patients early detections and immediate treatment. I will have to first make sure that the data is \"clean\", before proceeding to train a prediction model. Visualization plots will be done to help with understanding the dataset, as well as how each feature relates to the mortality rate. At the end of this project, an evaluation of the model's accuracy will be done. "
   ]
  },
  {
   "cell_type": "markdown",
   "id": "2cf33779",
   "metadata": {},
   "source": [
    "**Import libaries and load data**"
   ]
  },
  {
   "cell_type": "code",
   "execution_count": 11,
   "id": "6ee2f84d",
   "metadata": {},
   "outputs": [],
   "source": [
    "import numpy as np \n",
    "import pandas as pd \n",
    "\n",
    "import os\n",
    "for dirname, _, filenames in os.walk('/kaggle/input'):\n",
    "    for filename in filenames:\n",
    "        print(os.path.join(dirname, filename))"
   ]
  },
  {
   "cell_type": "code",
   "execution_count": 12,
   "id": "67427778",
   "metadata": {},
   "outputs": [],
   "source": [
    "import matplotlib.pyplot as plt\n",
    "import numpy as np\n",
    "import pandas as pd\n",
    "import seaborn as sns\n",
    "from sklearn.preprocessing import StandardScaler\n",
    "from sklearn.model_selection import cross_val_score \n",
    "import plotly.express as px"
   ]
  },
  {
   "cell_type": "code",
   "execution_count": 13,
   "id": "e4b1ff05",
   "metadata": {},
   "outputs": [],
   "source": [
    "data=pd.read_csv(\"heart_failure_clinical_records_dataset.csv\")"
   ]
  },
  {
   "cell_type": "code",
   "execution_count": 14,
   "id": "445b7e64",
   "metadata": {},
   "outputs": [
    {
     "data": {
      "text/html": [
       "<div>\n",
       "<style scoped>\n",
       "    .dataframe tbody tr th:only-of-type {\n",
       "        vertical-align: middle;\n",
       "    }\n",
       "\n",
       "    .dataframe tbody tr th {\n",
       "        vertical-align: top;\n",
       "    }\n",
       "\n",
       "    .dataframe thead th {\n",
       "        text-align: right;\n",
       "    }\n",
       "</style>\n",
       "<table border=\"1\" class=\"dataframe\">\n",
       "  <thead>\n",
       "    <tr style=\"text-align: right;\">\n",
       "      <th></th>\n",
       "      <th>age</th>\n",
       "      <th>anaemia</th>\n",
       "      <th>creatinine_phosphokinase</th>\n",
       "      <th>diabetes</th>\n",
       "      <th>ejection_fraction</th>\n",
       "      <th>high_blood_pressure</th>\n",
       "      <th>platelets</th>\n",
       "      <th>serum_creatinine</th>\n",
       "      <th>serum_sodium</th>\n",
       "      <th>sex</th>\n",
       "      <th>smoking</th>\n",
       "      <th>time</th>\n",
       "      <th>DEATH_EVENT</th>\n",
       "    </tr>\n",
       "  </thead>\n",
       "  <tbody>\n",
       "    <tr>\n",
       "      <th>0</th>\n",
       "      <td>75.0</td>\n",
       "      <td>0</td>\n",
       "      <td>582</td>\n",
       "      <td>0</td>\n",
       "      <td>20</td>\n",
       "      <td>1</td>\n",
       "      <td>265000.00</td>\n",
       "      <td>1.9</td>\n",
       "      <td>130</td>\n",
       "      <td>1</td>\n",
       "      <td>0</td>\n",
       "      <td>4</td>\n",
       "      <td>1</td>\n",
       "    </tr>\n",
       "    <tr>\n",
       "      <th>1</th>\n",
       "      <td>55.0</td>\n",
       "      <td>0</td>\n",
       "      <td>7861</td>\n",
       "      <td>0</td>\n",
       "      <td>38</td>\n",
       "      <td>0</td>\n",
       "      <td>263358.03</td>\n",
       "      <td>1.1</td>\n",
       "      <td>136</td>\n",
       "      <td>1</td>\n",
       "      <td>0</td>\n",
       "      <td>6</td>\n",
       "      <td>1</td>\n",
       "    </tr>\n",
       "    <tr>\n",
       "      <th>2</th>\n",
       "      <td>65.0</td>\n",
       "      <td>0</td>\n",
       "      <td>146</td>\n",
       "      <td>0</td>\n",
       "      <td>20</td>\n",
       "      <td>0</td>\n",
       "      <td>162000.00</td>\n",
       "      <td>1.3</td>\n",
       "      <td>129</td>\n",
       "      <td>1</td>\n",
       "      <td>1</td>\n",
       "      <td>7</td>\n",
       "      <td>1</td>\n",
       "    </tr>\n",
       "    <tr>\n",
       "      <th>3</th>\n",
       "      <td>50.0</td>\n",
       "      <td>1</td>\n",
       "      <td>111</td>\n",
       "      <td>0</td>\n",
       "      <td>20</td>\n",
       "      <td>0</td>\n",
       "      <td>210000.00</td>\n",
       "      <td>1.9</td>\n",
       "      <td>137</td>\n",
       "      <td>1</td>\n",
       "      <td>0</td>\n",
       "      <td>7</td>\n",
       "      <td>1</td>\n",
       "    </tr>\n",
       "    <tr>\n",
       "      <th>4</th>\n",
       "      <td>65.0</td>\n",
       "      <td>1</td>\n",
       "      <td>160</td>\n",
       "      <td>1</td>\n",
       "      <td>20</td>\n",
       "      <td>0</td>\n",
       "      <td>327000.00</td>\n",
       "      <td>2.7</td>\n",
       "      <td>116</td>\n",
       "      <td>0</td>\n",
       "      <td>0</td>\n",
       "      <td>8</td>\n",
       "      <td>1</td>\n",
       "    </tr>\n",
       "  </tbody>\n",
       "</table>\n",
       "</div>"
      ],
      "text/plain": [
       "    age  anaemia  creatinine_phosphokinase  diabetes  ejection_fraction  \\\n",
       "0  75.0        0                       582         0                 20   \n",
       "1  55.0        0                      7861         0                 38   \n",
       "2  65.0        0                       146         0                 20   \n",
       "3  50.0        1                       111         0                 20   \n",
       "4  65.0        1                       160         1                 20   \n",
       "\n",
       "   high_blood_pressure  platelets  serum_creatinine  serum_sodium  sex  \\\n",
       "0                    1  265000.00               1.9           130    1   \n",
       "1                    0  263358.03               1.1           136    1   \n",
       "2                    0  162000.00               1.3           129    1   \n",
       "3                    0  210000.00               1.9           137    1   \n",
       "4                    0  327000.00               2.7           116    0   \n",
       "\n",
       "   smoking  time  DEATH_EVENT  \n",
       "0        0     4            1  \n",
       "1        0     6            1  \n",
       "2        1     7            1  \n",
       "3        0     7            1  \n",
       "4        0     8            1  "
      ]
     },
     "execution_count": 14,
     "metadata": {},
     "output_type": "execute_result"
    }
   ],
   "source": [
    "data.head()"
   ]
  },
  {
   "cell_type": "code",
   "execution_count": 15,
   "id": "bfe986d9",
   "metadata": {},
   "outputs": [
    {
     "name": "stdout",
     "output_type": "stream",
     "text": [
      "<class 'pandas.core.frame.DataFrame'>\n",
      "RangeIndex: 299 entries, 0 to 298\n",
      "Data columns (total 13 columns):\n",
      " #   Column                    Non-Null Count  Dtype  \n",
      "---  ------                    --------------  -----  \n",
      " 0   age                       299 non-null    float64\n",
      " 1   anaemia                   299 non-null    int64  \n",
      " 2   creatinine_phosphokinase  299 non-null    int64  \n",
      " 3   diabetes                  299 non-null    int64  \n",
      " 4   ejection_fraction         299 non-null    int64  \n",
      " 5   high_blood_pressure       299 non-null    int64  \n",
      " 6   platelets                 299 non-null    float64\n",
      " 7   serum_creatinine          299 non-null    float64\n",
      " 8   serum_sodium              299 non-null    int64  \n",
      " 9   sex                       299 non-null    int64  \n",
      " 10  smoking                   299 non-null    int64  \n",
      " 11  time                      299 non-null    int64  \n",
      " 12  DEATH_EVENT               299 non-null    int64  \n",
      "dtypes: float64(3), int64(10)\n",
      "memory usage: 30.5 KB\n"
     ]
    }
   ],
   "source": [
    "data.info()"
   ]
  },
  {
   "cell_type": "markdown",
   "id": "c2e4b22d",
   "metadata": {},
   "source": [
    "**Data cleaning**"
   ]
  },
  {
   "cell_type": "code",
   "execution_count": 16,
   "id": "718fa233",
   "metadata": {},
   "outputs": [
    {
     "data": {
      "text/plain": [
       "age                         0\n",
       "anaemia                     0\n",
       "creatinine_phosphokinase    0\n",
       "diabetes                    0\n",
       "ejection_fraction           0\n",
       "high_blood_pressure         0\n",
       "platelets                   0\n",
       "serum_creatinine            0\n",
       "serum_sodium                0\n",
       "sex                         0\n",
       "smoking                     0\n",
       "time                        0\n",
       "DEATH_EVENT                 0\n",
       "dtype: int64"
      ]
     },
     "execution_count": 16,
     "metadata": {},
     "output_type": "execute_result"
    }
   ],
   "source": [
    "data.isnull().sum()"
   ]
  },
  {
   "cell_type": "code",
   "execution_count": 17,
   "id": "95b2d16e",
   "metadata": {},
   "outputs": [
    {
     "data": {
      "text/plain": [
       "0"
      ]
     },
     "execution_count": 17,
     "metadata": {},
     "output_type": "execute_result"
    }
   ],
   "source": [
    "data.duplicated().sum()"
   ]
  },
  {
   "cell_type": "code",
   "execution_count": 18,
   "id": "49bf81ab",
   "metadata": {},
   "outputs": [
    {
     "data": {
      "image/png": "[encoded data removed]",
      "text/plain": [
       "<Figure size 1440x1080 with 1 Axes>"
      ]
     },
     "metadata": {
      "needs_background": "light"
     },
     "output_type": "display_data"
    }
   ],
   "source": [
    "# Outliers values\n",
    "plt.figure(figsize=(20, 15))\n",
    "plt.boxplot(data, labels=data.columns)\n",
    "plt.show()"
   ]
  },
  {
   "cell_type": "markdown",
   "id": "e7f6975d",
   "metadata": {},
   "source": [
    "**Statistical analysis**\n",
    "\n",
    "Statistical analysis of the data will be done, calculating the measures of central tendency, measures of spread and concluding the type of distribution"
   ]
  },
  {
   "cell_type": "code",
   "execution_count": 19,
   "id": "5eb7efa0",
   "metadata": {},
   "outputs": [
    {
     "data": {
      "text/html": [
       "<div>\n",
       "<style scoped>\n",
       "    .dataframe tbody tr th:only-of-type {\n",
       "        vertical-align: middle;\n",
       "    }\n",
       "\n",
       "    .dataframe tbody tr th {\n",
       "        vertical-align: top;\n",
       "    }\n",
       "\n",
       "    .dataframe thead th {\n",
       "        text-align: right;\n",
       "    }\n",
       "</style>\n",
       "<table border=\"1\" class=\"dataframe\">\n",
       "  <thead>\n",
       "    <tr style=\"text-align: right;\">\n",
       "      <th></th>\n",
       "      <th>age</th>\n",
       "      <th>anaemia</th>\n",
       "      <th>creatinine_phosphokinase</th>\n",
       "      <th>diabetes</th>\n",
       "      <th>ejection_fraction</th>\n",
       "      <th>high_blood_pressure</th>\n",
       "      <th>platelets</th>\n",
       "      <th>serum_creatinine</th>\n",
       "      <th>serum_sodium</th>\n",
       "      <th>sex</th>\n",
       "      <th>smoking</th>\n",
       "      <th>time</th>\n",
       "      <th>DEATH_EVENT</th>\n",
       "    </tr>\n",
       "  </thead>\n",
       "  <tbody>\n",
       "    <tr>\n",
       "      <th>count</th>\n",
       "      <td>299.000000</td>\n",
       "      <td>299.000000</td>\n",
       "      <td>299.000000</td>\n",
       "      <td>299.000000</td>\n",
       "      <td>299.000000</td>\n",
       "      <td>299.000000</td>\n",
       "      <td>299.000000</td>\n",
       "      <td>299.00000</td>\n",
       "      <td>299.000000</td>\n",
       "      <td>299.000000</td>\n",
       "      <td>299.00000</td>\n",
       "      <td>299.000000</td>\n",
       "      <td>299.00000</td>\n",
       "    </tr>\n",
       "    <tr>\n",
       "      <th>mean</th>\n",
       "      <td>60.833893</td>\n",
       "      <td>0.431438</td>\n",
       "      <td>581.839465</td>\n",
       "      <td>0.418060</td>\n",
       "      <td>38.083612</td>\n",
       "      <td>0.351171</td>\n",
       "      <td>263358.029264</td>\n",
       "      <td>1.39388</td>\n",
       "      <td>136.625418</td>\n",
       "      <td>0.648829</td>\n",
       "      <td>0.32107</td>\n",
       "      <td>130.260870</td>\n",
       "      <td>0.32107</td>\n",
       "    </tr>\n",
       "    <tr>\n",
       "      <th>std</th>\n",
       "      <td>11.894809</td>\n",
       "      <td>0.496107</td>\n",
       "      <td>970.287881</td>\n",
       "      <td>0.494067</td>\n",
       "      <td>11.834841</td>\n",
       "      <td>0.478136</td>\n",
       "      <td>97804.236869</td>\n",
       "      <td>1.03451</td>\n",
       "      <td>4.412477</td>\n",
       "      <td>0.478136</td>\n",
       "      <td>0.46767</td>\n",
       "      <td>77.614208</td>\n",
       "      <td>0.46767</td>\n",
       "    </tr>\n",
       "    <tr>\n",
       "      <th>min</th>\n",
       "      <td>40.000000</td>\n",
       "      <td>0.000000</td>\n",
       "      <td>23.000000</td>\n",
       "      <td>0.000000</td>\n",
       "      <td>14.000000</td>\n",
       "      <td>0.000000</td>\n",
       "      <td>25100.000000</td>\n",
       "      <td>0.50000</td>\n",
       "      <td>113.000000</td>\n",
       "      <td>0.000000</td>\n",
       "      <td>0.00000</td>\n",
       "      <td>4.000000</td>\n",
       "      <td>0.00000</td>\n",
       "    </tr>\n",
       "    <tr>\n",
       "      <th>25%</th>\n",
       "      <td>51.000000</td>\n",
       "      <td>0.000000</td>\n",
       "      <td>116.500000</td>\n",
       "      <td>0.000000</td>\n",
       "      <td>30.000000</td>\n",
       "      <td>0.000000</td>\n",
       "      <td>212500.000000</td>\n",
       "      <td>0.90000</td>\n",
       "      <td>134.000000</td>\n",
       "      <td>0.000000</td>\n",
       "      <td>0.00000</td>\n",
       "      <td>73.000000</td>\n",
       "      <td>0.00000</td>\n",
       "    </tr>\n",
       "    <tr>\n",
       "      <th>50%</th>\n",
       "      <td>60.000000</td>\n",
       "      <td>0.000000</td>\n",
       "      <td>250.000000</td>\n",
       "      <td>0.000000</td>\n",
       "      <td>38.000000</td>\n",
       "      <td>0.000000</td>\n",
       "      <td>262000.000000</td>\n",
       "      <td>1.10000</td>\n",
       "      <td>137.000000</td>\n",
       "      <td>1.000000</td>\n",
       "      <td>0.00000</td>\n",
       "      <td>115.000000</td>\n",
       "      <td>0.00000</td>\n",
       "    </tr>\n",
       "    <tr>\n",
       "      <th>75%</th>\n",
       "      <td>70.000000</td>\n",
       "      <td>1.000000</td>\n",
       "      <td>582.000000</td>\n",
       "      <td>1.000000</td>\n",
       "      <td>45.000000</td>\n",
       "      <td>1.000000</td>\n",
       "      <td>303500.000000</td>\n",
       "      <td>1.40000</td>\n",
       "      <td>140.000000</td>\n",
       "      <td>1.000000</td>\n",
       "      <td>1.00000</td>\n",
       "      <td>203.000000</td>\n",
       "      <td>1.00000</td>\n",
       "    </tr>\n",
       "    <tr>\n",
       "      <th>max</th>\n",
       "      <td>95.000000</td>\n",
       "      <td>1.000000</td>\n",
       "      <td>7861.000000</td>\n",
       "      <td>1.000000</td>\n",
       "      <td>80.000000</td>\n",
       "      <td>1.000000</td>\n",
       "      <td>850000.000000</td>\n",
       "      <td>9.40000</td>\n",
       "      <td>148.000000</td>\n",
       "      <td>1.000000</td>\n",
       "      <td>1.00000</td>\n",
       "      <td>285.000000</td>\n",
       "      <td>1.00000</td>\n",
       "    </tr>\n",
       "  </tbody>\n",
       "</table>\n",
       "</div>"
      ],
      "text/plain": [
       "              age     anaemia  creatinine_phosphokinase    diabetes  \\\n",
       "count  299.000000  299.000000                299.000000  299.000000   \n",
       "mean    60.833893    0.431438                581.839465    0.418060   \n",
       "std     11.894809    0.496107                970.287881    0.494067   \n",
       "min     40.000000    0.000000                 23.000000    0.000000   \n",
       "25%     51.000000    0.000000                116.500000    0.000000   \n",
       "50%     60.000000    0.000000                250.000000    0.000000   \n",
       "75%     70.000000    1.000000                582.000000    1.000000   \n",
       "max     95.000000    1.000000               7861.000000    1.000000   \n",
       "\n",
       "       ejection_fraction  high_blood_pressure      platelets  \\\n",
       "count         299.000000           299.000000     299.000000   \n",
       "mean           38.083612             0.351171  263358.029264   \n",
       "std            11.834841             0.478136   97804.236869   \n",
       "min            14.000000             0.000000   25100.000000   \n",
       "25%            30.000000             0.000000  212500.000000   \n",
       "50%            38.000000             0.000000  262000.000000   \n",
       "75%            45.000000             1.000000  303500.000000   \n",
       "max            80.000000             1.000000  850000.000000   \n",
       "\n",
       "       serum_creatinine  serum_sodium         sex    smoking        time  \\\n",
       "count         299.00000    299.000000  299.000000  299.00000  299.000000   \n",
       "mean            1.39388    136.625418    0.648829    0.32107  130.260870   \n",
       "std             1.03451      4.412477    0.478136    0.46767   77.614208   \n",
       "min             0.50000    113.000000    0.000000    0.00000    4.000000   \n",
       "25%             0.90000    134.000000    0.000000    0.00000   73.000000   \n",
       "50%             1.10000    137.000000    1.000000    0.00000  115.000000   \n",
       "75%             1.40000    140.000000    1.000000    1.00000  203.000000   \n",
       "max             9.40000    148.000000    1.000000    1.00000  285.000000   \n",
       "\n",
       "       DEATH_EVENT  \n",
       "count    299.00000  \n",
       "mean       0.32107  \n",
       "std        0.46767  \n",
       "min        0.00000  \n",
       "25%        0.00000  \n",
       "50%        0.00000  \n",
       "75%        1.00000  \n",
       "max        1.00000  "
      ]
     },
     "execution_count": 19,
     "metadata": {},
     "output_type": "execute_result"
    }
   ],
   "source": [
    "data.describe()"
   ]
  },
  {
   "cell_type": "markdown",
   "id": "30a3a83a",
   "metadata": {},
   "source": [
    "Further processing is required because I am unable to obtain any valuable information from the output above. The data values that are being utilised to represent the characteristics need to be changed first since they are a little ambiguous."
   ]
  },
  {
   "cell_type": "code",
   "execution_count": 20,
   "id": "8789e09a",
   "metadata": {},
   "outputs": [
    {
     "data": {
      "text/html": [
       "<div>\n",
       "<style scoped>\n",
       "    .dataframe tbody tr th:only-of-type {\n",
       "        vertical-align: middle;\n",
       "    }\n",
       "\n",
       "    .dataframe tbody tr th {\n",
       "        vertical-align: top;\n",
       "    }\n",
       "\n",
       "    .dataframe thead th {\n",
       "        text-align: right;\n",
       "    }\n",
       "</style>\n",
       "<table border=\"1\" class=\"dataframe\">\n",
       "  <thead>\n",
       "    <tr style=\"text-align: right;\">\n",
       "      <th></th>\n",
       "      <th>age</th>\n",
       "      <th>anaemia</th>\n",
       "      <th>creatinine_phosphokinase</th>\n",
       "      <th>diabetes</th>\n",
       "      <th>ejection_fraction</th>\n",
       "      <th>high_blood_pressure</th>\n",
       "      <th>platelets</th>\n",
       "      <th>serum_creatinine</th>\n",
       "      <th>serum_sodium</th>\n",
       "      <th>sex</th>\n",
       "      <th>smoking</th>\n",
       "      <th>time</th>\n",
       "      <th>DEATH_EVENT</th>\n",
       "    </tr>\n",
       "  </thead>\n",
       "  <tbody>\n",
       "    <tr>\n",
       "      <th>0</th>\n",
       "      <td>75.0</td>\n",
       "      <td>NO</td>\n",
       "      <td>582</td>\n",
       "      <td>NO</td>\n",
       "      <td>20</td>\n",
       "      <td>YES</td>\n",
       "      <td>265000.00</td>\n",
       "      <td>1.9</td>\n",
       "      <td>130</td>\n",
       "      <td>YES</td>\n",
       "      <td>NO</td>\n",
       "      <td>4</td>\n",
       "      <td>YES</td>\n",
       "    </tr>\n",
       "    <tr>\n",
       "      <th>1</th>\n",
       "      <td>55.0</td>\n",
       "      <td>NO</td>\n",
       "      <td>7861</td>\n",
       "      <td>NO</td>\n",
       "      <td>38</td>\n",
       "      <td>NO</td>\n",
       "      <td>263358.03</td>\n",
       "      <td>1.1</td>\n",
       "      <td>136</td>\n",
       "      <td>YES</td>\n",
       "      <td>NO</td>\n",
       "      <td>6</td>\n",
       "      <td>YES</td>\n",
       "    </tr>\n",
       "    <tr>\n",
       "      <th>2</th>\n",
       "      <td>65.0</td>\n",
       "      <td>NO</td>\n",
       "      <td>146</td>\n",
       "      <td>NO</td>\n",
       "      <td>20</td>\n",
       "      <td>NO</td>\n",
       "      <td>162000.00</td>\n",
       "      <td>1.3</td>\n",
       "      <td>129</td>\n",
       "      <td>YES</td>\n",
       "      <td>YES</td>\n",
       "      <td>7</td>\n",
       "      <td>YES</td>\n",
       "    </tr>\n",
       "    <tr>\n",
       "      <th>3</th>\n",
       "      <td>50.0</td>\n",
       "      <td>YES</td>\n",
       "      <td>111</td>\n",
       "      <td>NO</td>\n",
       "      <td>20</td>\n",
       "      <td>NO</td>\n",
       "      <td>210000.00</td>\n",
       "      <td>1.9</td>\n",
       "      <td>137</td>\n",
       "      <td>YES</td>\n",
       "      <td>NO</td>\n",
       "      <td>7</td>\n",
       "      <td>YES</td>\n",
       "    </tr>\n",
       "    <tr>\n",
       "      <th>4</th>\n",
       "      <td>65.0</td>\n",
       "      <td>YES</td>\n",
       "      <td>160</td>\n",
       "      <td>YES</td>\n",
       "      <td>20</td>\n",
       "      <td>NO</td>\n",
       "      <td>327000.00</td>\n",
       "      <td>2.7</td>\n",
       "      <td>116</td>\n",
       "      <td>NO</td>\n",
       "      <td>NO</td>\n",
       "      <td>8</td>\n",
       "      <td>YES</td>\n",
       "    </tr>\n",
       "  </tbody>\n",
       "</table>\n",
       "</div>"
      ],
      "text/plain": [
       "    age anaemia  creatinine_phosphokinase diabetes  ejection_fraction  \\\n",
       "0  75.0      NO                       582       NO                 20   \n",
       "1  55.0      NO                      7861       NO                 38   \n",
       "2  65.0      NO                       146       NO                 20   \n",
       "3  50.0     YES                       111       NO                 20   \n",
       "4  65.0     YES                       160      YES                 20   \n",
       "\n",
       "  high_blood_pressure  platelets serum_creatinine  serum_sodium  sex smoking  \\\n",
       "0                 YES  265000.00              1.9           130  YES      NO   \n",
       "1                  NO  263358.03              1.1           136  YES      NO   \n",
       "2                  NO  162000.00              1.3           129  YES     YES   \n",
       "3                  NO  210000.00              1.9           137  YES      NO   \n",
       "4                  NO  327000.00              2.7           116   NO      NO   \n",
       "\n",
       "   time DEATH_EVENT  \n",
       "0     4         YES  \n",
       "1     6         YES  \n",
       "2     7         YES  \n",
       "3     7         YES  \n",
       "4     8         YES  "
      ]
     },
     "execution_count": 20,
     "metadata": {},
     "output_type": "execute_result"
    }
   ],
   "source": [
    "# copy the dataset\n",
    "dataset_copy = data.copy()\n",
    "\n",
    "# replaces each column that is represented with 1 and 2, to NO and YES\n",
    "for col in dataset_copy.columns:\n",
    "    dataset_copy[col] = dataset_copy[col].replace({0 : \"NO\" , 1 : \"YES\"})\n",
    "    \n",
    "# get the first 5 rows\n",
    "dataset_copy.head()"
   ]
  },
  {
   "cell_type": "code",
   "execution_count": 21,
   "id": "cc130e07",
   "metadata": {
    "scrolled": true
   },
   "outputs": [
    {
     "data": {
      "text/html": [
       "<div>\n",
       "<style scoped>\n",
       "    .dataframe tbody tr th:only-of-type {\n",
       "        vertical-align: middle;\n",
       "    }\n",
       "\n",
       "    .dataframe tbody tr th {\n",
       "        vertical-align: top;\n",
       "    }\n",
       "\n",
       "    .dataframe thead th {\n",
       "        text-align: right;\n",
       "    }\n",
       "</style>\n",
       "<table border=\"1\" class=\"dataframe\">\n",
       "  <thead>\n",
       "    <tr style=\"text-align: right;\">\n",
       "      <th></th>\n",
       "      <th>age</th>\n",
       "      <th>creatinine_phosphokinase</th>\n",
       "      <th>ejection_fraction</th>\n",
       "      <th>platelets</th>\n",
       "      <th>serum_sodium</th>\n",
       "      <th>time</th>\n",
       "    </tr>\n",
       "  </thead>\n",
       "  <tbody>\n",
       "    <tr>\n",
       "      <th>count</th>\n",
       "      <td>299.000000</td>\n",
       "      <td>299.000000</td>\n",
       "      <td>299.000000</td>\n",
       "      <td>299.000000</td>\n",
       "      <td>299.000000</td>\n",
       "      <td>299.000000</td>\n",
       "    </tr>\n",
       "    <tr>\n",
       "      <th>mean</th>\n",
       "      <td>60.833893</td>\n",
       "      <td>581.839465</td>\n",
       "      <td>38.083612</td>\n",
       "      <td>263358.029264</td>\n",
       "      <td>136.625418</td>\n",
       "      <td>130.260870</td>\n",
       "    </tr>\n",
       "    <tr>\n",
       "      <th>std</th>\n",
       "      <td>11.894809</td>\n",
       "      <td>970.287881</td>\n",
       "      <td>11.834841</td>\n",
       "      <td>97804.236869</td>\n",
       "      <td>4.412477</td>\n",
       "      <td>77.614208</td>\n",
       "    </tr>\n",
       "    <tr>\n",
       "      <th>min</th>\n",
       "      <td>40.000000</td>\n",
       "      <td>23.000000</td>\n",
       "      <td>14.000000</td>\n",
       "      <td>25100.000000</td>\n",
       "      <td>113.000000</td>\n",
       "      <td>4.000000</td>\n",
       "    </tr>\n",
       "    <tr>\n",
       "      <th>25%</th>\n",
       "      <td>51.000000</td>\n",
       "      <td>116.500000</td>\n",
       "      <td>30.000000</td>\n",
       "      <td>212500.000000</td>\n",
       "      <td>134.000000</td>\n",
       "      <td>73.000000</td>\n",
       "    </tr>\n",
       "    <tr>\n",
       "      <th>50%</th>\n",
       "      <td>60.000000</td>\n",
       "      <td>250.000000</td>\n",
       "      <td>38.000000</td>\n",
       "      <td>262000.000000</td>\n",
       "      <td>137.000000</td>\n",
       "      <td>115.000000</td>\n",
       "    </tr>\n",
       "    <tr>\n",
       "      <th>75%</th>\n",
       "      <td>70.000000</td>\n",
       "      <td>582.000000</td>\n",
       "      <td>45.000000</td>\n",
       "      <td>303500.000000</td>\n",
       "      <td>140.000000</td>\n",
       "      <td>203.000000</td>\n",
       "    </tr>\n",
       "    <tr>\n",
       "      <th>max</th>\n",
       "      <td>95.000000</td>\n",
       "      <td>7861.000000</td>\n",
       "      <td>80.000000</td>\n",
       "      <td>850000.000000</td>\n",
       "      <td>148.000000</td>\n",
       "      <td>285.000000</td>\n",
       "    </tr>\n",
       "  </tbody>\n",
       "</table>\n",
       "</div>"
      ],
      "text/plain": [
       "              age  creatinine_phosphokinase  ejection_fraction      platelets  \\\n",
       "count  299.000000                299.000000         299.000000     299.000000   \n",
       "mean    60.833893                581.839465          38.083612  263358.029264   \n",
       "std     11.894809                970.287881          11.834841   97804.236869   \n",
       "min     40.000000                 23.000000          14.000000   25100.000000   \n",
       "25%     51.000000                116.500000          30.000000  212500.000000   \n",
       "50%     60.000000                250.000000          38.000000  262000.000000   \n",
       "75%     70.000000                582.000000          45.000000  303500.000000   \n",
       "max     95.000000               7861.000000          80.000000  850000.000000   \n",
       "\n",
       "       serum_sodium        time  \n",
       "count    299.000000  299.000000  \n",
       "mean     136.625418  130.260870  \n",
       "std        4.412477   77.614208  \n",
       "min      113.000000    4.000000  \n",
       "25%      134.000000   73.000000  \n",
       "50%      137.000000  115.000000  \n",
       "75%      140.000000  203.000000  \n",
       "max      148.000000  285.000000  "
      ]
     },
     "execution_count": 21,
     "metadata": {},
     "output_type": "execute_result"
    }
   ],
   "source": [
    "# get the basic statistics of the dataset_copy\n",
    "dataset_copy.describe()"
   ]
  },
  {
   "cell_type": "code",
   "execution_count": 22,
   "id": "d03fcde7",
   "metadata": {},
   "outputs": [
    {
     "name": "stdout",
     "output_type": "stream",
     "text": [
      "age :\n",
      "--------------------------\n",
      "60.000    33\n",
      "50.000    27\n",
      "65.000    26\n",
      "70.000    25\n",
      "45.000    19\n",
      "55.000    17\n",
      "75.000    11\n",
      "53.000    10\n",
      "58.000    10\n",
      "63.000     8\n",
      "80.000     7\n",
      "72.000     7\n",
      "40.000     7\n",
      "42.000     7\n",
      "85.000     6\n",
      "68.000     5\n",
      "52.000     5\n",
      "62.000     5\n",
      "51.000     4\n",
      "59.000     4\n",
      "61.000     4\n",
      "73.000     4\n",
      "49.000     4\n",
      "69.000     3\n",
      "46.000     3\n",
      "64.000     3\n",
      "82.000     3\n",
      "90.000     3\n",
      "78.000     2\n",
      "60.667     2\n",
      "54.000     2\n",
      "77.000     2\n",
      "57.000     2\n",
      "66.000     2\n",
      "44.000     2\n",
      "67.000     2\n",
      "95.000     2\n",
      "48.000     2\n",
      "43.000     1\n",
      "86.000     1\n",
      "81.000     1\n",
      "79.000     1\n",
      "41.000     1\n",
      "94.000     1\n",
      "87.000     1\n",
      "47.000     1\n",
      "56.000     1\n",
      "Name: age, dtype: int64\n",
      "\n",
      "\n",
      "anaemia :\n",
      "--------------------------\n",
      "NO     170\n",
      "YES    129\n",
      "Name: anaemia, dtype: int64\n",
      "\n",
      "\n",
      "creatinine_phosphokinase :\n",
      "--------------------------\n",
      "582     47\n",
      "66       4\n",
      "129      4\n",
      "231      3\n",
      "69       3\n",
      "        ..\n",
      "748      1\n",
      "1876     1\n",
      "936      1\n",
      "292      1\n",
      "2413     1\n",
      "Name: creatinine_phosphokinase, Length: 208, dtype: int64\n",
      "\n",
      "\n",
      "diabetes :\n",
      "--------------------------\n",
      "NO     174\n",
      "YES    125\n",
      "Name: diabetes, dtype: int64\n",
      "\n",
      "\n",
      "ejection_fraction :\n",
      "--------------------------\n",
      "35    49\n",
      "38    40\n",
      "40    37\n",
      "25    36\n",
      "30    34\n",
      "60    31\n",
      "50    21\n",
      "45    20\n",
      "20    18\n",
      "55     3\n",
      "15     2\n",
      "62     2\n",
      "17     2\n",
      "65     1\n",
      "14     1\n",
      "80     1\n",
      "70     1\n",
      "Name: ejection_fraction, dtype: int64\n",
      "\n",
      "\n",
      "high_blood_pressure :\n",
      "--------------------------\n",
      "NO     194\n",
      "YES    105\n",
      "Name: high_blood_pressure, dtype: int64\n",
      "\n",
      "\n",
      "platelets :\n",
      "--------------------------\n",
      "263358.03    25\n",
      "221000.00     4\n",
      "279000.00     4\n",
      "271000.00     4\n",
      "305000.00     4\n",
      "             ..\n",
      "227000.00     1\n",
      "289000.00     1\n",
      "300000.00     1\n",
      "217000.00     1\n",
      "742000.00     1\n",
      "Name: platelets, Length: 176, dtype: int64\n",
      "\n",
      "\n",
      "serum_creatinine :\n",
      "--------------------------\n",
      "YES     50\n",
      "1.1     32\n",
      "0.9     32\n",
      "1.2     24\n",
      "0.8     24\n",
      "1.3     20\n",
      "0.7     19\n",
      "1.18    11\n",
      "1.4      9\n",
      "1.7      9\n",
      "1.83     8\n",
      "1.6      6\n",
      "1.9      5\n",
      "2.1      5\n",
      "1.5      5\n",
      "0.6      4\n",
      "1.8      4\n",
      "2.3      3\n",
      "2.7      3\n",
      "2.5      3\n",
      "3.5      2\n",
      "2.4      2\n",
      "3.0      2\n",
      "0.5      1\n",
      "5.0      1\n",
      "0.75     1\n",
      "6.1      1\n",
      "3.4      1\n",
      "3.7      1\n",
      "9.0      1\n",
      "4.0      1\n",
      "3.2      1\n",
      "5.8      1\n",
      "2.9      1\n",
      "2.0      1\n",
      "2.2      1\n",
      "6.8      1\n",
      "9.4      1\n",
      "4.4      1\n",
      "3.8      1\n",
      "Name: serum_creatinine, dtype: int64\n",
      "\n",
      "\n",
      "serum_sodium :\n",
      "--------------------------\n",
      "136    40\n",
      "137    38\n",
      "140    35\n",
      "134    32\n",
      "138    23\n",
      "139    22\n",
      "135    16\n",
      "132    14\n",
      "141    12\n",
      "142    11\n",
      "133    10\n",
      "145     9\n",
      "130     9\n",
      "144     5\n",
      "131     5\n",
      "127     3\n",
      "143     3\n",
      "128     2\n",
      "129     2\n",
      "121     1\n",
      "116     1\n",
      "146     1\n",
      "126     1\n",
      "124     1\n",
      "113     1\n",
      "125     1\n",
      "148     1\n",
      "Name: serum_sodium, dtype: int64\n",
      "\n",
      "\n",
      "sex :\n",
      "--------------------------\n",
      "YES    194\n",
      "NO     105\n",
      "Name: sex, dtype: int64\n",
      "\n",
      "\n",
      "smoking :\n",
      "--------------------------\n",
      "NO     203\n",
      "YES     96\n",
      "Name: smoking, dtype: int64\n",
      "\n",
      "\n",
      "time :\n",
      "--------------------------\n",
      "250    7\n",
      "187    7\n",
      "10     6\n",
      "186    6\n",
      "107    6\n",
      "      ..\n",
      "97     1\n",
      "96     1\n",
      "86     1\n",
      "77     1\n",
      "285    1\n",
      "Name: time, Length: 148, dtype: int64\n",
      "\n",
      "\n",
      "DEATH_EVENT :\n",
      "--------------------------\n",
      "NO     203\n",
      "YES     96\n",
      "Name: DEATH_EVENT, dtype: int64\n",
      "\n",
      "\n"
     ]
    }
   ],
   "source": [
    "# Calculate mode for nominal datatypes\n",
    "# get all columns, except for \"AGE\" column\n",
    "dataset_nominal = dataset_copy.loc[:, dataset_copy.columns != \"AGE\"]\n",
    "\n",
    "# for each nominal datatype column, count the number of values\n",
    "for col in dataset_nominal.columns:\n",
    "    print(col, \":\")\n",
    "    print(\"--------------------------\")\n",
    "    print(dataset_nominal[col].value_counts())\n",
    "    print(\"\\n\")"
   ]
  },
  {
   "cell_type": "code",
   "execution_count": 23,
   "id": "c2b3e54f",
   "metadata": {},
   "outputs": [
    {
     "data": {
      "text/plain": [
       "time                       -0.526964\n",
       "ejection_fraction          -0.268603\n",
       "serum_sodium               -0.195204\n",
       "platelets                  -0.049139\n",
       "smoking                    -0.012623\n",
       "sex                        -0.004316\n",
       "diabetes                   -0.001943\n",
       "creatinine_phosphokinase    0.062728\n",
       "anaemia                     0.066270\n",
       "high_blood_pressure         0.079351\n",
       "age                         0.253729\n",
       "serum_creatinine            0.294278\n",
       "DEATH_EVENT                 1.000000\n",
       "Name: DEATH_EVENT, dtype: float64"
      ]
     },
     "execution_count": 23,
     "metadata": {},
     "output_type": "execute_result"
    }
   ],
   "source": [
    "data.corr()['DEATH_EVENT'].sort_values()"
   ]
  },
  {
   "cell_type": "code",
   "execution_count": 24,
   "id": "3070d671",
   "metadata": {},
   "outputs": [
    {
     "data": {
      "text/plain": [
       "<AxesSubplot:>"
      ]
     },
     "execution_count": 24,
     "metadata": {},
     "output_type": "execute_result"
    },
    {
     "data": {
      "image/png": "[encoded data removed]",
      "text/plain": [
       "<Figure size 864x432 with 2 Axes>"
      ]
     },
     "metadata": {
      "needs_background": "light"
     },
     "output_type": "display_data"
    }
   ],
   "source": [
    "plt.figure(figsize=(12,6))\n",
    "sns.heatmap(data.corr(),annot=True)"
   ]
  },
  {
   "cell_type": "markdown",
   "id": "3e094b31",
   "metadata": {},
   "source": [
    "**Feature engineering - feature selection:**\n",
    "\n",
    "Using the technique feature importance to choose the most relevant features."
   ]
  },
  {
   "cell_type": "code",
   "execution_count": 79,
   "id": "db970076",
   "metadata": {},
   "outputs": [
    {
     "name": "stdout",
     "output_type": "stream",
     "text": [
      "[0.08999751 0.02353529 0.07787159 0.02986499 0.13035862 0.02344784\n",
      " 0.07508366 0.12552984 0.09254549 0.02656026 0.02951713 0.27568777]\n"
     ]
    },
    {
     "data": {
      "image/png": "[encoded data removed]",
      "text/plain": [
       "<Figure size 1080x432 with 1 Axes>"
      ]
     },
     "metadata": {},
     "output_type": "display_data"
    }
   ],
   "source": [
    "# Feature Selection\n",
    "\n",
    "plt.rcParams['figure.figsize']=15,6 \n",
    "sns.set_style(\"darkgrid\")\n",
    "\n",
    "x = data.iloc[:, :-1]\n",
    "y = data.iloc[:,-1]\n",
    "\n",
    "from sklearn.ensemble import ExtraTreesClassifier\n",
    "import matplotlib.pyplot as plt\n",
    "model = ExtraTreesClassifier()\n",
    "model.fit(x,y)\n",
    "print(model.feature_importances_) \n",
    "feat_importances = pd.Series(model.feature_importances_, index=x.columns)\n",
    "feat_importances.nlargest(12).plot(kind='barh')\n",
    "plt.show()"
   ]
  },
  {
   "cell_type": "markdown",
   "id": "aef1d3a5",
   "metadata": {},
   "source": [
    "**Data visualization -**\n",
    "\n",
    "For improved visualisation, appropriate plots will be created based on the dataset. Seeing the distribution of classes,this will help us to identify which types"
   ]
  },
  {
   "cell_type": "markdown",
   "id": "e53dbc20",
   "metadata": {},
   "source": [
    "Visualizing the number of alive and dead cases -"
   ]
  },
  {
   "cell_type": "code",
   "execution_count": 25,
   "id": "0836580a",
   "metadata": {},
   "outputs": [
    {
     "name": "stdout",
     "output_type": "stream",
     "text": [
      "Total  number of Alive cases:- 203\n",
      "Total number of Dead cases:- 96\n"
     ]
    },
    {
     "data": {
      "image/png": "[encoded data removed]",
      "text/plain": [
       "<Figure size 432x288 with 1 Axes>"
      ]
     },
     "metadata": {},
     "output_type": "display_data"
    }
   ],
   "source": [
    "live=data['DEATH_EVENT'][data['DEATH_EVENT'] == 0]\n",
    "num_live=len(live)\n",
    "death=data['DEATH_EVENT'][data['DEATH_EVENT'] == 1]\n",
    "num_death=len(death)\n",
    "x_axis=np.array([num_live,num_death])\n",
    "labels=['Alive','Dead']\n",
    "print(f'Total  number of Alive cases:- {num_live}')\n",
    "print(f'Total number of Dead cases:- {num_death}')\n",
    "plt.pie(x_axis, labels = labels, explode=[0.2,0.0], shadow = True)\n",
    "plt.show()"
   ]
  },
  {
   "cell_type": "markdown",
   "id": "6b54eb1d",
   "metadata": {},
   "source": [
    "as we can see there are more number of alive cases than dead cases in the dataset which means the mortality rate as of this dataset is comparitively low."
   ]
  },
  {
   "cell_type": "markdown",
   "id": "ab948c7d",
   "metadata": {},
   "source": [
    "Now We are going to examine the distribution of Diabetes"
   ]
  },
  {
   "cell_type": "code",
   "execution_count": 26,
   "id": "a4db6135",
   "metadata": {},
   "outputs": [
    {
     "name": "stderr",
     "output_type": "stream",
     "text": [
      "/Users/nikhitha/opt/anaconda3/lib/python3.9/site-packages/seaborn/distributions.py:2619: FutureWarning: `distplot` is a deprecated function and will be removed in a future version. Please adapt your code to use either `displot` (a figure-level function with similar flexibility) or `histplot` (an axes-level function for histograms).\n",
      "  warnings.warn(msg, FutureWarning)\n"
     ]
    },
    {
     "data": {
      "text/plain": [
       "<AxesSubplot:xlabel='diabetes', ylabel='Density'>"
      ]
     },
     "execution_count": 26,
     "metadata": {},
     "output_type": "execute_result"
    },
    {
     "data": {
      "image/png": "[encoded data removed]",
      "text/plain": [
       "<Figure size 432x288 with 1 Axes>"
      ]
     },
     "metadata": {
      "needs_background": "light"
     },
     "output_type": "display_data"
    }
   ],
   "source": [
    "sns.distplot(data['diabetes'])"
   ]
  },
  {
   "cell_type": "markdown",
   "id": "2e267c74",
   "metadata": {},
   "source": [
    "Visualizing the death event as per diabetes patients -"
   ]
  },
  {
   "cell_type": "code",
   "execution_count": 87,
   "id": "1b0f3258",
   "metadata": {},
   "outputs": [
    {
     "data": {
      "image/png": "[encoded data removed]",
      "text/plain": [
       "<Figure size 1080x432 with 1 Axes>"
      ]
     },
     "metadata": {},
     "output_type": "display_data"
    }
   ],
   "source": [
    "pd.crosstab(data.diabetes ,data.DEATH_EVENT).plot(kind='bar')\n",
    "plt.title('Death Event as per diabetes ')\n",
    "plt.xlabel('diabetes ')\n",
    "plt.ylabel('Death')\n",
    "plt.show()"
   ]
  },
  {
   "cell_type": "code",
   "execution_count": 83,
   "id": "75963b92",
   "metadata": {},
   "outputs": [
    {
     "name": "stdout",
     "output_type": "stream",
     "text": [
      "Percentage of people who died and have diabetes: 32.0\n"
     ]
    }
   ],
   "source": [
    "print(\"Percentage of people who died and have diabetes:\", \n",
    "      data[\"DEATH_EVENT\"][data[\"diabetes\"] == 1].value_counts(normalize = True)[1]*100)"
   ]
  },
  {
   "cell_type": "code",
   "execution_count": 85,
   "id": "f1d8d580",
   "metadata": {},
   "outputs": [
    {
     "name": "stdout",
     "output_type": "stream",
     "text": [
      "Percentage of people who died and do not have diabetes: 32.18390804597701\n"
     ]
    }
   ],
   "source": [
    "print(\"Percentage of people who died and do not have diabetes:\", \n",
    "      data[\"DEATH_EVENT\"][data[\"diabetes\"] == 0].value_counts(normalize = True)[1]*100)"
   ]
  },
  {
   "cell_type": "markdown",
   "id": "412778bc",
   "metadata": {},
   "source": [
    "As we can observe the number of people that do not have diabetes have a slightly higher mortality rate."
   ]
  },
  {
   "cell_type": "markdown",
   "id": "e894d6ff",
   "metadata": {},
   "source": [
    "Visualization and Distribution of age -"
   ]
  },
  {
   "cell_type": "code",
   "execution_count": 31,
   "id": "7d641e5f",
   "metadata": {},
   "outputs": [
    {
     "name": "stderr",
     "output_type": "stream",
     "text": [
      "/Users/nikhitha/opt/anaconda3/lib/python3.9/site-packages/seaborn/distributions.py:2619: FutureWarning: `distplot` is a deprecated function and will be removed in a future version. Please adapt your code to use either `displot` (a figure-level function with similar flexibility) or `histplot` (an axes-level function for histograms).\n",
      "  warnings.warn(msg, FutureWarning)\n"
     ]
    },
    {
     "data": {
      "text/plain": [
       "<AxesSubplot:xlabel='age', ylabel='Density'>"
      ]
     },
     "execution_count": 31,
     "metadata": {},
     "output_type": "execute_result"
    },
    {
     "data": {
      "image/png": "[encoded data removed]",
      "text/plain": [
       "<Figure size 432x288 with 1 Axes>"
      ]
     },
     "metadata": {
      "needs_background": "light"
     },
     "output_type": "display_data"
    }
   ],
   "source": [
    "sns.distplot(data['age'])"
   ]
  },
  {
   "cell_type": "markdown",
   "id": "d5427201",
   "metadata": {},
   "source": [
    "Visualizing the death event of patients aged above 50 -"
   ]
  },
  {
   "cell_type": "code",
   "execution_count": 32,
   "id": "4e22a010",
   "metadata": {},
   "outputs": [
    {
     "name": "stdout",
     "output_type": "stream",
     "text": [
      "Total number of Alive:- 167\n",
      "Total number of Died:- 85\n"
     ]
    },
    {
     "data": {
      "image/png": "[encoded data removed]",
      "text/plain": [
       "<Figure size 432x288 with 1 Axes>"
      ]
     },
     "metadata": {},
     "output_type": "display_data"
    }
   ],
   "source": [
    "age_above_50_alive = data['DEATH_EVENT'][data.age >=50][data.DEATH_EVENT == 0]\n",
    "age_above_50_died = data['DEATH_EVENT'][data.age >= 50][data.DEATH_EVENT == 1]\n",
    "\n",
    "num_died= len(age_above_50_died)\n",
    "num_alive= len(age_above_50_alive)\n",
    "\n",
    "x2_axis= np.array([num_alive, num_died])\n",
    "labels =['Alive','DIED']\n",
    "\n",
    "print(f'Total number of Alive:- {num_alive}')\n",
    "print(f'Total number of Died:- {num_died}')\n",
    "\n",
    "plt.pie(x2_axis, labels=labels, explode = [0.2, 0.0], shadow= True)\n",
    "plt.show()"
   ]
  },
  {
   "cell_type": "markdown",
   "id": "50cd6ccd",
   "metadata": {},
   "source": [
    "There are more number of alive patients than dead for patients aged above 50. So the mortality rate is not that high for patients aged above 50."
   ]
  },
  {
   "cell_type": "markdown",
   "id": "0b22c700",
   "metadata": {},
   "source": [
    "Visualizing the death event as per smoking patients - -"
   ]
  },
  {
   "cell_type": "code",
   "execution_count": 33,
   "id": "192ecce0",
   "metadata": {},
   "outputs": [
    {
     "data": {
      "image/png": "[encoded data removed]",
      "text/plain": [
       "<Figure size 432x288 with 1 Axes>"
      ]
     },
     "metadata": {
      "needs_background": "light"
     },
     "output_type": "display_data"
    }
   ],
   "source": [
    "pd.crosstab(data.smoking ,data.DEATH_EVENT).plot(kind='bar')\n",
    "plt.title('Death Event as per Smoking ')\n",
    "plt.xlabel('Smoking')\n",
    "plt.ylabel('Death')\n",
    "plt.show()"
   ]
  },
  {
   "cell_type": "code",
   "execution_count": 34,
   "id": "6c46193e",
   "metadata": {},
   "outputs": [
    {
     "name": "stdout",
     "output_type": "stream",
     "text": [
      "Percentage of people who died and are smokers: 31.25\n"
     ]
    }
   ],
   "source": [
    "print(\"Percentage of people who died and are smokers:\", \n",
    "      data[\"DEATH_EVENT\"][data[\"smoking\"] == 1].value_counts(normalize = True)[1]*100)"
   ]
  },
  {
   "cell_type": "code",
   "execution_count": 35,
   "id": "a1e4d625",
   "metadata": {},
   "outputs": [
    {
     "name": "stdout",
     "output_type": "stream",
     "text": [
      "Percentage of people who died and are not smokers: 32.51231527093596\n"
     ]
    }
   ],
   "source": [
    "print(\"Percentage of people who died and are not smokers:\", \n",
    "      data[\"DEATH_EVENT\"][data[\"smoking\"] == 0].value_counts(normalize = True)[1]*100)"
   ]
  },
  {
   "cell_type": "markdown",
   "id": "4320266f",
   "metadata": {},
   "source": [
    "As we can observe the number of people that do not smoke have a slightly higher mortality rate."
   ]
  },
  {
   "cell_type": "markdown",
   "id": "9dcd9c87",
   "metadata": {},
   "source": [
    "Visualizing the death event as per sex -"
   ]
  },
  {
   "cell_type": "code",
   "execution_count": 36,
   "id": "c763db9c",
   "metadata": {},
   "outputs": [
    {
     "data": {
      "image/png": "[encoded data removed]",
      "text/plain": [
       "<Figure size 432x288 with 1 Axes>"
      ]
     },
     "metadata": {
      "needs_background": "light"
     },
     "output_type": "display_data"
    }
   ],
   "source": [
    "pd.crosstab(data.sex ,data.DEATH_EVENT).plot(kind='bar')\n",
    "plt.title('Death Event as per Sex')\n",
    "plt.xlabel('Sex')\n",
    "plt.ylabel('Death')\n",
    "plt.show()"
   ]
  },
  {
   "cell_type": "code",
   "execution_count": 37,
   "id": "d3d9c02c",
   "metadata": {},
   "outputs": [
    {
     "name": "stdout",
     "output_type": "stream",
     "text": [
      "Females: 32.38095238095238\n",
      "Males: 31.958762886597935\n"
     ]
    }
   ],
   "source": [
    "print(\"Females:\", \n",
    "      data[\"DEATH_EVENT\"][data[\"sex\"] == 0].value_counts(normalize = True)[1]*100)\n",
    "\n",
    "print(\"Males:\", \n",
    "      data[\"DEATH_EVENT\"][data[\"sex\"] == 1].value_counts(normalize = True)[1]*100)"
   ]
  },
  {
   "cell_type": "markdown",
   "id": "280c5038",
   "metadata": {},
   "source": [
    "As we can see there is a very high number of entries for males but if we calculate by percentage we can observe that females have a higher mortality rate"
   ]
  },
  {
   "cell_type": "markdown",
   "id": "6e25ec74",
   "metadata": {},
   "source": [
    "Visualizing the death event as per anaemia patients -"
   ]
  },
  {
   "cell_type": "code",
   "execution_count": 38,
   "id": "fe48036b",
   "metadata": {},
   "outputs": [
    {
     "data": {
      "image/png": "[encoded data removed]",
      "text/plain": [
       "<Figure size 432x288 with 1 Axes>"
      ]
     },
     "metadata": {
      "needs_background": "light"
     },
     "output_type": "display_data"
    }
   ],
   "source": [
    "pd.crosstab(data.anaemia  ,data.DEATH_EVENT).plot(kind='bar')\n",
    "plt.title('Death Event as per Anaemia')\n",
    "plt.xlabel('Anaemia')\n",
    "plt.ylabel('Death')\n",
    "plt.show()"
   ]
  },
  {
   "cell_type": "code",
   "execution_count": 88,
   "id": "853747e4",
   "metadata": {},
   "outputs": [
    {
     "name": "stdout",
     "output_type": "stream",
     "text": [
      "Percentage of people who died and have anaemia: 35.65891472868217\n"
     ]
    }
   ],
   "source": [
    "print(\"Percentage of people who died and have anaemia:\", \n",
    "      data[\"DEATH_EVENT\"][data[\"anaemia\"] == 1].value_counts(normalize = True)[1]*100)"
   ]
  },
  {
   "cell_type": "code",
   "execution_count": 89,
   "id": "b710ea3e",
   "metadata": {},
   "outputs": [
    {
     "name": "stdout",
     "output_type": "stream",
     "text": [
      "Percentage of people who died and do not have anaemia: 29.411764705882355\n"
     ]
    }
   ],
   "source": [
    "print(\"Percentage of people who died and do not have anaemia:\", \n",
    "      data[\"DEATH_EVENT\"][data[\"anaemia\"] == 0].value_counts(normalize = True)[1]*100)"
   ]
  },
  {
   "cell_type": "markdown",
   "id": "b1b9d5b9",
   "metadata": {},
   "source": [
    "As we see there is a significant difference in the mortality rate between patients who dont have anaemia. The mortality rate for patients with anemia is higher hence making anaemia one of the most important features to cause death among the heart failure patients."
   ]
  },
  {
   "cell_type": "markdown",
   "id": "d2129fbb",
   "metadata": {},
   "source": [
    "Visualizing the death event as per patients with high blood prerssure -"
   ]
  },
  {
   "cell_type": "code",
   "execution_count": 41,
   "id": "43827392",
   "metadata": {},
   "outputs": [
    {
     "data": {
      "image/png": "[encoded data removed]",
      "text/plain": [
       "<Figure size 432x288 with 1 Axes>"
      ]
     },
     "metadata": {
      "needs_background": "light"
     },
     "output_type": "display_data"
    }
   ],
   "source": [
    "pd.crosstab(data.high_blood_pressure  ,data.DEATH_EVENT).plot(kind='bar')\n",
    "plt.title('Death Event as per Blood Pressure ')\n",
    "plt.xlabel('BP')\n",
    "plt.ylabel('Death')\n",
    "plt.show()\n"
   ]
  },
  {
   "cell_type": "code",
   "execution_count": 90,
   "id": "0dc41cb1",
   "metadata": {},
   "outputs": [
    {
     "name": "stdout",
     "output_type": "stream",
     "text": [
      "Percentage of people who died and have high blood pressure: 37.142857142857146\n"
     ]
    }
   ],
   "source": [
    "print(\"Percentage of people who died and have high blood pressure:\", \n",
    "      data[\"DEATH_EVENT\"][data[\"high_blood_pressure\"] == 1].value_counts(normalize = True)[1]*100)"
   ]
  },
  {
   "cell_type": "code",
   "execution_count": 91,
   "id": "9bc87aa2",
   "metadata": {},
   "outputs": [
    {
     "name": "stdout",
     "output_type": "stream",
     "text": [
      "Percentage of people who died and do not have high blood pressure: 29.381443298969074\n"
     ]
    }
   ],
   "source": [
    "print(\"Percentage of people who died and do not have high blood pressure:\", \n",
    "      data[\"DEATH_EVENT\"][data[\"high_blood_pressure\"] == 0].value_counts(normalize = True)[1]*100)"
   ]
  },
  {
   "cell_type": "markdown",
   "id": "1bb94ffe",
   "metadata": {},
   "source": [
    "As we see there is a significant difference in the mortality rate between patients who dont have high blood pressure. The mortality rate percentage for patients with high blood pressure is significantly higher. Hence, making high blood pressure one of the most important features to cause death among the heart failure patients."
   ]
  },
  {
   "cell_type": "markdown",
   "id": "0b8c9175",
   "metadata": {},
   "source": [
    "**Modelling the data:**"
   ]
  },
  {
   "cell_type": "code",
   "execution_count": 44,
   "id": "0c76bf70",
   "metadata": {},
   "outputs": [],
   "source": [
    "X = data.drop('DEATH_EVENT',axis=1)\n",
    "Y = pd.DataFrame(data['DEATH_EVENT'])"
   ]
  },
  {
   "cell_type": "code",
   "execution_count": 45,
   "id": "ae453f08",
   "metadata": {},
   "outputs": [
    {
     "data": {
      "text/html": [
       "<div>\n",
       "<style scoped>\n",
       "    .dataframe tbody tr th:only-of-type {\n",
       "        vertical-align: middle;\n",
       "    }\n",
       "\n",
       "    .dataframe tbody tr th {\n",
       "        vertical-align: top;\n",
       "    }\n",
       "\n",
       "    .dataframe thead th {\n",
       "        text-align: right;\n",
       "    }\n",
       "</style>\n",
       "<table border=\"1\" class=\"dataframe\">\n",
       "  <thead>\n",
       "    <tr style=\"text-align: right;\">\n",
       "      <th></th>\n",
       "      <th>age</th>\n",
       "      <th>anaemia</th>\n",
       "      <th>creatinine_phosphokinase</th>\n",
       "      <th>diabetes</th>\n",
       "      <th>ejection_fraction</th>\n",
       "      <th>high_blood_pressure</th>\n",
       "      <th>platelets</th>\n",
       "      <th>serum_creatinine</th>\n",
       "      <th>serum_sodium</th>\n",
       "      <th>sex</th>\n",
       "      <th>smoking</th>\n",
       "      <th>time</th>\n",
       "    </tr>\n",
       "  </thead>\n",
       "  <tbody>\n",
       "    <tr>\n",
       "      <th>0</th>\n",
       "      <td>75.0</td>\n",
       "      <td>0</td>\n",
       "      <td>582</td>\n",
       "      <td>0</td>\n",
       "      <td>20</td>\n",
       "      <td>1</td>\n",
       "      <td>265000.00</td>\n",
       "      <td>1.9</td>\n",
       "      <td>130</td>\n",
       "      <td>1</td>\n",
       "      <td>0</td>\n",
       "      <td>4</td>\n",
       "    </tr>\n",
       "    <tr>\n",
       "      <th>1</th>\n",
       "      <td>55.0</td>\n",
       "      <td>0</td>\n",
       "      <td>7861</td>\n",
       "      <td>0</td>\n",
       "      <td>38</td>\n",
       "      <td>0</td>\n",
       "      <td>263358.03</td>\n",
       "      <td>1.1</td>\n",
       "      <td>136</td>\n",
       "      <td>1</td>\n",
       "      <td>0</td>\n",
       "      <td>6</td>\n",
       "    </tr>\n",
       "    <tr>\n",
       "      <th>2</th>\n",
       "      <td>65.0</td>\n",
       "      <td>0</td>\n",
       "      <td>146</td>\n",
       "      <td>0</td>\n",
       "      <td>20</td>\n",
       "      <td>0</td>\n",
       "      <td>162000.00</td>\n",
       "      <td>1.3</td>\n",
       "      <td>129</td>\n",
       "      <td>1</td>\n",
       "      <td>1</td>\n",
       "      <td>7</td>\n",
       "    </tr>\n",
       "    <tr>\n",
       "      <th>3</th>\n",
       "      <td>50.0</td>\n",
       "      <td>1</td>\n",
       "      <td>111</td>\n",
       "      <td>0</td>\n",
       "      <td>20</td>\n",
       "      <td>0</td>\n",
       "      <td>210000.00</td>\n",
       "      <td>1.9</td>\n",
       "      <td>137</td>\n",
       "      <td>1</td>\n",
       "      <td>0</td>\n",
       "      <td>7</td>\n",
       "    </tr>\n",
       "    <tr>\n",
       "      <th>4</th>\n",
       "      <td>65.0</td>\n",
       "      <td>1</td>\n",
       "      <td>160</td>\n",
       "      <td>1</td>\n",
       "      <td>20</td>\n",
       "      <td>0</td>\n",
       "      <td>327000.00</td>\n",
       "      <td>2.7</td>\n",
       "      <td>116</td>\n",
       "      <td>0</td>\n",
       "      <td>0</td>\n",
       "      <td>8</td>\n",
       "    </tr>\n",
       "  </tbody>\n",
       "</table>\n",
       "</div>"
      ],
      "text/plain": [
       "    age  anaemia  creatinine_phosphokinase  diabetes  ejection_fraction  \\\n",
       "0  75.0        0                       582         0                 20   \n",
       "1  55.0        0                      7861         0                 38   \n",
       "2  65.0        0                       146         0                 20   \n",
       "3  50.0        1                       111         0                 20   \n",
       "4  65.0        1                       160         1                 20   \n",
       "\n",
       "   high_blood_pressure  platelets  serum_creatinine  serum_sodium  sex  \\\n",
       "0                    1  265000.00               1.9           130    1   \n",
       "1                    0  263358.03               1.1           136    1   \n",
       "2                    0  162000.00               1.3           129    1   \n",
       "3                    0  210000.00               1.9           137    1   \n",
       "4                    0  327000.00               2.7           116    0   \n",
       "\n",
       "   smoking  time  \n",
       "0        0     4  \n",
       "1        0     6  \n",
       "2        1     7  \n",
       "3        0     7  \n",
       "4        0     8  "
      ]
     },
     "execution_count": 45,
     "metadata": {},
     "output_type": "execute_result"
    }
   ],
   "source": [
    "X.head()"
   ]
  },
  {
   "cell_type": "code",
   "execution_count": 46,
   "id": "541364d6",
   "metadata": {},
   "outputs": [
    {
     "data": {
      "text/html": [
       "<div>\n",
       "<style scoped>\n",
       "    .dataframe tbody tr th:only-of-type {\n",
       "        vertical-align: middle;\n",
       "    }\n",
       "\n",
       "    .dataframe tbody tr th {\n",
       "        vertical-align: top;\n",
       "    }\n",
       "\n",
       "    .dataframe thead th {\n",
       "        text-align: right;\n",
       "    }\n",
       "</style>\n",
       "<table border=\"1\" class=\"dataframe\">\n",
       "  <thead>\n",
       "    <tr style=\"text-align: right;\">\n",
       "      <th></th>\n",
       "      <th>DEATH_EVENT</th>\n",
       "    </tr>\n",
       "  </thead>\n",
       "  <tbody>\n",
       "    <tr>\n",
       "      <th>0</th>\n",
       "      <td>1</td>\n",
       "    </tr>\n",
       "    <tr>\n",
       "      <th>1</th>\n",
       "      <td>1</td>\n",
       "    </tr>\n",
       "    <tr>\n",
       "      <th>2</th>\n",
       "      <td>1</td>\n",
       "    </tr>\n",
       "    <tr>\n",
       "      <th>3</th>\n",
       "      <td>1</td>\n",
       "    </tr>\n",
       "    <tr>\n",
       "      <th>4</th>\n",
       "      <td>1</td>\n",
       "    </tr>\n",
       "  </tbody>\n",
       "</table>\n",
       "</div>"
      ],
      "text/plain": [
       "   DEATH_EVENT\n",
       "0            1\n",
       "1            1\n",
       "2            1\n",
       "3            1\n",
       "4            1"
      ]
     },
     "execution_count": 46,
     "metadata": {},
     "output_type": "execute_result"
    }
   ],
   "source": [
    "Y.head()"
   ]
  },
  {
   "cell_type": "markdown",
   "id": "0aad3e1a",
   "metadata": {},
   "source": [
    "**Train test splliting:**\n",
    "\n",
    "The features that are utilised to train the model must be carefully chosen. The dataset will have to be split into training and testing sets for creating the prediction model"
   ]
  },
  {
   "cell_type": "code",
   "execution_count": 47,
   "id": "140e28d0",
   "metadata": {},
   "outputs": [],
   "source": [
    "from sklearn.model_selection import train_test_split\n",
    "from sklearn.preprocessing import StandardScaler"
   ]
  },
  {
   "cell_type": "code",
   "execution_count": 48,
   "id": "feaa36ca",
   "metadata": {},
   "outputs": [],
   "source": [
    "x_train, x_test, y_train, y_test = train_test_split( X, Y, test_size=0.4, random_state=7)"
   ]
  },
  {
   "cell_type": "markdown",
   "id": "2a0d79e3",
   "metadata": {},
   "source": [
    "**Feature engineering - scaling features:**\n",
    "\n",
    "Used to standardize or normalize numerical features to bring them to a similar scale."
   ]
  },
  {
   "cell_type": "code",
   "execution_count": 49,
   "id": "0a0a4863",
   "metadata": {},
   "outputs": [],
   "source": [
    "scaler = StandardScaler()\n",
    "x_train = scaler.fit_transform(x_train)\n",
    "x_test = scaler.transform(x_test)"
   ]
  },
  {
   "cell_type": "code",
   "execution_count": 71,
   "id": "c9763d11",
   "metadata": {},
   "outputs": [],
   "source": [
    "scaler = StandardScaler()\n",
    "\n",
    "data_scaled = data.copy()"
   ]
  },
  {
   "cell_type": "markdown",
   "id": "1a42176d",
   "metadata": {},
   "source": [
    "I will be training two models,use them to predict and testing their accuracy,"
   ]
  },
  {
   "cell_type": "markdown",
   "id": "f4dbbdea",
   "metadata": {},
   "source": [
    "**Machine learning models -**"
   ]
  },
  {
   "cell_type": "markdown",
   "id": "82f335d1",
   "metadata": {},
   "source": [
    "**Logistic regression**"
   ]
  },
  {
   "cell_type": "code",
   "execution_count": 51,
   "id": "7e5288e7",
   "metadata": {},
   "outputs": [],
   "source": [
    "from sklearn.linear_model import LogisticRegression\n",
    "from sklearn.metrics import confusion_matrix,classification_report,accuracy_score"
   ]
  },
  {
   "cell_type": "code",
   "execution_count": 52,
   "id": "0abf2892",
   "metadata": {},
   "outputs": [
    {
     "name": "stderr",
     "output_type": "stream",
     "text": [
      "/Users/nikhitha/opt/anaconda3/lib/python3.9/site-packages/sklearn/utils/validation.py:993: DataConversionWarning: A column-vector y was passed when a 1d array was expected. Please change the shape of y to (n_samples, ), for example using ravel().\n",
      "  y = column_or_1d(y, warn=True)\n"
     ]
    },
    {
     "data": {
      "text/plain": [
       "LogisticRegression()"
      ]
     },
     "execution_count": 52,
     "metadata": {},
     "output_type": "execute_result"
    }
   ],
   "source": [
    "model1=LogisticRegression()\n",
    "model1.fit(x_train,y_train)"
   ]
  },
  {
   "cell_type": "code",
   "execution_count": 53,
   "id": "d79b88e4",
   "metadata": {},
   "outputs": [],
   "source": [
    "y_pred=model1.predict(x_test)"
   ]
  },
  {
   "cell_type": "code",
   "execution_count": 54,
   "id": "720ee21a",
   "metadata": {},
   "outputs": [
    {
     "data": {
      "image/png": "[encoded data removed]",
      "text/plain": [
       "<Figure size 576x432 with 2 Axes>"
      ]
     },
     "metadata": {
      "needs_background": "light"
     },
     "output_type": "display_data"
    },
    {
     "data": {
      "image/png": "[encoded data removed]",
      "text/plain": [
       "<Figure size 576x432 with 1 Axes>"
      ]
     },
     "metadata": {
      "needs_background": "light"
     },
     "output_type": "display_data"
    }
   ],
   "source": [
    "import matplotlib.pyplot as plt\n",
    "from sklearn.metrics import roc_curve, auc\n",
    "\n",
    "# Confusion Matrix Visualization\n",
    "conf_matrix = confusion_matrix(y_test, y_pred)\n",
    "plt.figure(figsize=(8, 6))\n",
    "sns.heatmap(conf_matrix, annot=True, fmt='d', cmap='Oranges')\n",
    "plt.xlabel('Predicted')\n",
    "plt.ylabel('True')\n",
    "plt.title('Confusion Matrix')\n",
    "plt.show()\n",
    "\n",
    "# ROC Curve\n",
    "y_proba = model1.predict_proba(x_test)[:, 1]\n",
    "fpr, tpr, _ = roc_curve(y_test, y_proba)\n",
    "roc_auc = auc(fpr, tpr)\n",
    "\n",
    "plt.figure(figsize=(8, 6))\n",
    "plt.plot(fpr, tpr, color='orange', lw=2, label=f'ROC curve (AUC = {roc_auc:.2f})')\n",
    "plt.plot([0, 1], [0, 1], color='blue', lw=2, linestyle='--')\n",
    "plt.xlabel('False Positive Rate')\n",
    "plt.ylabel('True Positive Rate')\n",
    "plt.title('Receiver Operating Characteristic (ROC) Curve')\n",
    "plt.legend(loc='lower right')\n",
    "plt.show()"
   ]
  },
  {
   "cell_type": "code",
   "execution_count": 55,
   "id": "d6a57a03",
   "metadata": {},
   "outputs": [
    {
     "data": {
      "image/png": "[encoded data removed]",
      "text/plain": [
       "<Figure size 576x432 with 1 Axes>"
      ]
     },
     "metadata": {
      "needs_background": "light"
     },
     "output_type": "display_data"
    }
   ],
   "source": [
    "from sklearn.metrics import precision_recall_curve, average_precision_score\n",
    "\n",
    "# Precision-Recall Curve\n",
    "precision, recall, _ = precision_recall_curve(y_test, y_proba)\n",
    "average_precision = average_precision_score(y_test, y_proba)\n",
    "\n",
    "plt.figure(figsize=(8, 6))\n",
    "plt.step(recall, precision, color='b', alpha=0.7, where='post')\n",
    "plt.fill_between(recall, precision, step='post', alpha=0.3, color='b')\n",
    "plt.xlabel('Recall')\n",
    "plt.ylabel('Precision')\n",
    "plt.ylim([0.0, 1.05])\n",
    "plt.xlim([0.0, 1.0])\n",
    "plt.title('Precision-Recall Curve (AP = {:.2f})'.format(average_precision))\n",
    "plt.show()"
   ]
  },
  {
   "cell_type": "code",
   "execution_count": 56,
   "id": "3fb705ca",
   "metadata": {},
   "outputs": [
    {
     "name": "stdout",
     "output_type": "stream",
     "text": [
      "-------------------------------------------------------------------------\n",
      "The accuraccy score is: ------>> 0.89'\n",
      "-------------------------------------------------------------------------\n",
      "The Classification Report is: ---->>               precision    recall  f1-score   support\n",
      "\n",
      "           0       0.89      0.96      0.92        83\n",
      "           1       0.90      0.73      0.81        37\n",
      "\n",
      "    accuracy                           0.89       120\n",
      "   macro avg       0.89      0.85      0.87       120\n",
      "weighted avg       0.89      0.89      0.89       120\n",
      "\n"
     ]
    }
   ],
   "source": [
    "print(\"-------------------------------------------------------------------------\")\n",
    "accuracy=accuracy_score(y_test,y_pred)\n",
    "print(\"The accuraccy score is: ------>> {:.2f}'\".format(accuracy) )\n",
    "print(\"-------------------------------------------------------------------------\")\n",
    "print(f\"The Classification Report is: ---->> {classification_report(y_test,y_pred)}\")\n"
   ]
  },
  {
   "cell_type": "code",
   "execution_count": 57,
   "id": "8481361f",
   "metadata": {},
   "outputs": [
    {
     "name": "stdout",
     "output_type": "stream",
     "text": [
      "Cross validation score of Logistic Regression Model:\n",
      "1) 56.67 %\n",
      "2) 88.33 %\n",
      "3) 90.0 %\n",
      "4) 88.33 %\n",
      "5) 67.8 %\n"
     ]
    },
    {
     "name": "stderr",
     "output_type": "stream",
     "text": [
      "/Users/nikhitha/opt/anaconda3/lib/python3.9/site-packages/sklearn/utils/validation.py:993: DataConversionWarning: A column-vector y was passed when a 1d array was expected. Please change the shape of y to (n_samples, ), for example using ravel().\n",
      "  y = column_or_1d(y, warn=True)\n",
      "/Users/nikhitha/opt/anaconda3/lib/python3.9/site-packages/sklearn/utils/validation.py:993: DataConversionWarning: A column-vector y was passed when a 1d array was expected. Please change the shape of y to (n_samples, ), for example using ravel().\n",
      "  y = column_or_1d(y, warn=True)\n",
      "/Users/nikhitha/opt/anaconda3/lib/python3.9/site-packages/sklearn/utils/validation.py:993: DataConversionWarning: A column-vector y was passed when a 1d array was expected. Please change the shape of y to (n_samples, ), for example using ravel().\n",
      "  y = column_or_1d(y, warn=True)\n",
      "/Users/nikhitha/opt/anaconda3/lib/python3.9/site-packages/sklearn/linear_model/_logistic.py:814: ConvergenceWarning: lbfgs failed to converge (status=1):\n",
      "STOP: TOTAL NO. of ITERATIONS REACHED LIMIT.\n",
      "\n",
      "Increase the number of iterations (max_iter) or scale the data as shown in:\n",
      "    https://scikit-learn.org/stable/modules/preprocessing.html\n",
      "Please also refer to the documentation for alternative solver options:\n",
      "    https://scikit-learn.org/stable/modules/linear_model.html#logistic-regression\n",
      "  n_iter_i = _check_optimize_result(\n",
      "/Users/nikhitha/opt/anaconda3/lib/python3.9/site-packages/sklearn/utils/validation.py:993: DataConversionWarning: A column-vector y was passed when a 1d array was expected. Please change the shape of y to (n_samples, ), for example using ravel().\n",
      "  y = column_or_1d(y, warn=True)\n",
      "/Users/nikhitha/opt/anaconda3/lib/python3.9/site-packages/sklearn/linear_model/_logistic.py:814: ConvergenceWarning: lbfgs failed to converge (status=1):\n",
      "STOP: TOTAL NO. of ITERATIONS REACHED LIMIT.\n",
      "\n",
      "Increase the number of iterations (max_iter) or scale the data as shown in:\n",
      "    https://scikit-learn.org/stable/modules/preprocessing.html\n",
      "Please also refer to the documentation for alternative solver options:\n",
      "    https://scikit-learn.org/stable/modules/linear_model.html#logistic-regression\n",
      "  n_iter_i = _check_optimize_result(\n",
      "/Users/nikhitha/opt/anaconda3/lib/python3.9/site-packages/sklearn/utils/validation.py:993: DataConversionWarning: A column-vector y was passed when a 1d array was expected. Please change the shape of y to (n_samples, ), for example using ravel().\n",
      "  y = column_or_1d(y, warn=True)\n"
     ]
    }
   ],
   "source": [
    "from sklearn.model_selection import cross_val_score\n",
    "\n",
    "LogisticRegression_cross_val = cross_val_score(LogisticRegression(),X,Y)\n",
    "print(\"Cross validation score of Logistic Regression Model:\")\n",
    "\n",
    "count = 0\n",
    "for i in LogisticRegression_cross_val:\n",
    "    count+=1\n",
    "    print(f\"{count}) {round(i*100, ndigits = 2)} %\")"
   ]
  },
  {
   "cell_type": "markdown",
   "id": "f5cb6fe0",
   "metadata": {},
   "source": [
    "**Decision Tree**"
   ]
  },
  {
   "cell_type": "code",
   "execution_count": 58,
   "id": "3288cce4",
   "metadata": {},
   "outputs": [],
   "source": [
    "from sklearn.tree import DecisionTreeClassifier"
   ]
  },
  {
   "cell_type": "code",
   "execution_count": 59,
   "id": "ee8b7af6",
   "metadata": {},
   "outputs": [
    {
     "data": {
      "text/plain": [
       "DecisionTreeClassifier()"
      ]
     },
     "execution_count": 59,
     "metadata": {},
     "output_type": "execute_result"
    }
   ],
   "source": [
    "model2 = DecisionTreeClassifier()\n",
    "model2.fit(x_train,y_train)"
   ]
  },
  {
   "cell_type": "code",
   "execution_count": 60,
   "id": "b36b5c2a",
   "metadata": {},
   "outputs": [],
   "source": [
    "y_pred = model2.predict(x_test)"
   ]
  },
  {
   "cell_type": "code",
   "execution_count": 61,
   "id": "fa2a0402",
   "metadata": {},
   "outputs": [
    {
     "data": {
      "image/png": "[encoded data removed]",
      "text/plain": [
       "<Figure size 720x576 with 1 Axes>"
      ]
     },
     "metadata": {
      "needs_background": "light"
     },
     "output_type": "display_data"
    }
   ],
   "source": [
    "from sklearn.tree import plot_tree\n",
    "plt.figure(figsize=(10, 8))\n",
    "plot_tree(model2, filled=True)\n",
    "plt.title('Decision Tree Visualization')\n",
    "plt.show()"
   ]
  },
  {
   "cell_type": "code",
   "execution_count": 62,
   "id": "b19676f9",
   "metadata": {},
   "outputs": [
    {
     "data": {
      "image/png": "[encoded data removed]",
      "text/plain": [
       "<Figure size 576x432 with 2 Axes>"
      ]
     },
     "metadata": {
      "needs_background": "light"
     },
     "output_type": "display_data"
    }
   ],
   "source": [
    "conf_matrix = confusion_matrix(y_test, y_pred)\n",
    "plt.figure(figsize=(8, 6))\n",
    "sns.heatmap(conf_matrix, annot=True, fmt='d', cmap='Greens')\n",
    "plt.xlabel('Predicted')\n",
    "plt.ylabel('True')\n",
    "plt.title('Confusion Matrix')\n",
    "plt.show()"
   ]
  },
  {
   "cell_type": "code",
   "execution_count": 63,
   "id": "50d4ed7f",
   "metadata": {},
   "outputs": [
    {
     "name": "stdout",
     "output_type": "stream",
     "text": [
      "-------------------------------------------------------------------------\n",
      "The accuraccy score is: ------>> 0.82\n",
      "-------------------------------------------------------------------------\n",
      "The Classification Report is: ---->>               precision    recall  f1-score   support\n",
      "\n",
      "           0       0.89      0.86      0.87        83\n",
      "           1       0.70      0.76      0.73        37\n",
      "\n",
      "    accuracy                           0.82       120\n",
      "   macro avg       0.79      0.81      0.80       120\n",
      "weighted avg       0.83      0.82      0.83       120\n",
      "\n"
     ]
    }
   ],
   "source": [
    "print(\"-------------------------------------------------------------------------\")\n",
    "accuracy=accuracy_score(y_test,y_pred)\n",
    "print(\"The accuraccy score is: ------>> {:.2f}\".format(accuracy) )\n",
    "print(\"-------------------------------------------------------------------------\")\n",
    "print(f\"The Classification Report is: ---->> {classification_report(y_test,y_pred)}\")"
   ]
  },
  {
   "cell_type": "code",
   "execution_count": 64,
   "id": "d2550e4f",
   "metadata": {},
   "outputs": [
    {
     "name": "stdout",
     "output_type": "stream",
     "text": [
      "Cross validation score of DecisionTreeClassifier Model:\n",
      "1) 36.67 %\n",
      "2) 85.0 %\n",
      "3) 71.67 %\n",
      "4) 58.33 %\n",
      "5) 64.41 %\n"
     ]
    }
   ],
   "source": [
    "from sklearn.model_selection import cross_val_score\n",
    "\n",
    "DecisionTreeClassifier_cross_val = cross_val_score(DecisionTreeClassifier(),X,Y)\n",
    "print(\"Cross validation score of DecisionTreeClassifier Model:\")\n",
    "\n",
    "count = 0\n",
    "for i in DecisionTreeClassifier_cross_val:\n",
    "    count+=1\n",
    "    print(f\"{count}) {round(i*100, ndigits = 2)} %\")"
   ]
  },
  {
   "cell_type": "markdown",
   "id": "b0625ea0",
   "metadata": {},
   "source": [
    "**Conclusion: -**"
   ]
  },
  {
   "cell_type": "markdown",
   "id": "3e2f207a",
   "metadata": {},
   "source": [
    " **Evaluation of the model**"
   ]
  },
  {
   "cell_type": "markdown",
   "id": "132dc835",
   "metadata": {},
   "source": [
    "In this coursework, I was able to train a model with machine learning, that allows prediction of the mortality rate of heart failure patients based on the presence of patients' behavioral risk factors and features. I started out by cleaning and processing the data, ensuring that there weren't any null values, and removing duplicate entries. Visualizations such as the bar graphs, boxplot, pie charts and heatmaps are done to help understand the dataset better. It results in findings, like how the mortality rate for high blood pressure patients and anaemia is very high compared to patients who smoke and are aged above 50. These processes help prepare the data for training and testing the model. I did training and testing on 2 different models. I Numerically evaluated the performance of the model by doing the classification report, confusion matrix, the Receiver Operating Characteristic curve and Precision-Recall curve.\n",
    "\n",
    "The first model works better due to better accuracy scores compared to the second model. I believe this would greatly speed up the time spent and reduce the resources used to predict the mortality rate of heart failure patients.It helps doctors and patients get a quick grasp on whether they need detection and immediate treatment. Patients' appointments could also be better scheduled with such a system, putting priority for those patients who would be at a greater risk of death compared to other patients. Even though this model is only done on heart failure, other diseases could also utilize this. Dataset on other behavioral risks can be acquired, and used to predict the mortality rate of other diseases. Since there may be overlapping behavioral risks between diseases, a deeper analysis along with a better algorithm should be used to train the prediction model.\n",
    "\n",
    "The accuracy of this model can be improved by going into a deeper analysis of the behavioral risks. Further evaluation of how important each individual or set of behavioral risks is to a prediction of mortality rate among heart failure patients will improve the accuracy score. A larger dataset with more detailed findings will also contribute to the accuracy of the prediction models. since I don't have access to a better dataset, there isn't much I can do right now to enhance the model.If the dataset is larger and consists of more details this method can definitely be done with different programming languages, using other ML libraries.\n"
   ]
  },
  {
   "cell_type": "code",
   "execution_count": null,
   "id": "e001fd36",
   "metadata": {},
   "outputs": [],
   "source": []
  }
 ],
 "metadata": {
  "kernelspec": {
   "display_name": "Python 3 (ipykernel)",
   "language": "python",
   "name": "python3"
  },
  "language_info": {
   "codemirror_mode": {
    "name": "ipython",
    "version": 3
   },
   "file_extension": ".py",
   "mimetype": "text/x-python",
   "name": "python",
   "nbconvert_exporter": "python",
   "pygments_lexer": "ipython3",
   "version": "3.9.12"
  }
 },
 "nbformat": 4,
 "nbformat_minor": 5
}
